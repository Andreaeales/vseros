{
 "cells": [
  {
   "cell_type": "code",
   "execution_count": 5,
   "metadata": {},
   "outputs": [],
   "source": [
    "import pandas as pd\n",
    "from rectools import Columns\n",
    "from rectools.dataset import Dataset\n",
    "from rectools.model_selection.random_split import RandomSplitter\n",
    "\n",
    "df = pd.read_csv('train (2).csv')\n",
    "\n",
    "df_ratings = df[[\"userId\", \"id\"]].copy()\n",
    "df_ratings[\"weight\"] = 1\n",
    "df_ratings[\"time\"] = \"2001-09-11 4:20:00\" #ОЧЕНЬ ВАЖНО НЕ МЕНЯТЬ ПОСЛЕ ЭТОГО МЫ ВСЕ АРАБОФОБЫ БЛЯТЬ\n",
    "df_ratings = df_ratings.rename(columns={\"userId\": Columns.User, \"id\": Columns.Item, \"weight\": Columns.Weight, \"time\": Columns.Datetime})\n",
    "\n",
    "df_songs_features = df[[\"id\", \"artistId\"]].copy()\n",
    "df_songs_features = df_songs_features.rename(columns={\"id\": Columns.Item, \"artistId\": \"value\"})\n",
    "df_songs_features[\"feature\"] = \"artistId\"\n",
    "df_songs_features = df_songs_features.drop_duplicates(subset=[\"item_id\"])\n",
    "\n",
    "dataset = Dataset.construct(interactions_df=df_ratings, item_features_df=df_songs_features, cat_item_features=[\"artistId\"], make_dense_item_features=False)"
   ]
  },
  {
   "cell_type": "code",
   "execution_count": 6,
   "metadata": {},
   "outputs": [],
   "source": [
    "submission = pd.read_csv(\"3.1 A.csv\")\n",
    "users_for_tests = submission.userId.values"
   ]
  },
  {
   "cell_type": "code",
   "execution_count": 7,
   "metadata": {},
   "outputs": [
    {
     "data": {
      "text/plain": [
       "0.004697771240754454"
      ]
     },
     "execution_count": 7,
     "metadata": {},
     "output_type": "execute_result"
    }
   ],
   "source": [
    "from rectools.models import PopularModel\n",
    "from rectools.metrics import MAP\n",
    "# Fit model and generate recommendations for all users\n",
    "\n",
    "model = PopularModel()\n",
    "model.fit(dataset)\n",
    "recos = model.recommend(\n",
    "    users=df_ratings.user_id.unique(),\n",
    "    dataset=dataset,\n",
    "    k=3,\n",
    "    filter_viewed=True,\n",
    ")\n",
    "\n",
    "submission_for_tests = submission.melt(id_vars=[\"userId\"], value_vars=['recommended_id_1', 'recommended_id_2', 'recommended_id_3'], var_name=\"ХуйЗнаетУдалюВсёРавно\", value_name=Columns.Item)\n",
    "submission_for_tests = submission_for_tests[['userId', Columns.Item]].sort_values(by='userId').reset_index(drop=True)\n",
    "submission_for_tests = submission_for_tests.rename(columns={\"userId\":Columns.User})\n",
    "\n",
    "MAP(k=3).calc(recos, submission_for_tests)"
   ]
  },
  {
   "cell_type": "code",
   "execution_count": 8,
   "metadata": {},
   "outputs": [
    {
     "data": {
      "text/plain": [
       "0.4276684995910641"
      ]
     },
     "execution_count": 8,
     "metadata": {},
     "output_type": "execute_result"
    }
   ],
   "source": [
    "lol = set(df_ratings[Columns.User].values)\n",
    "kek = set(submission_for_tests[Columns.User].values)\n",
    "\n",
    "2*len(lol & kek)/ (len(lol) + len(kek))"
   ]
  },
  {
   "cell_type": "code",
   "execution_count": 42,
   "metadata": {},
   "outputs": [
    {
     "data": {
      "text/plain": [
       "0.004697771240754454"
      ]
     },
     "execution_count": 42,
     "metadata": {},
     "output_type": "execute_result"
    }
   ],
   "source": [
    "MAP(k=3, divide_by_k=True).calc(recos, submission_for_tests) "
   ]
  },
  {
   "cell_type": "code",
   "execution_count": 43,
   "metadata": {},
   "outputs": [
    {
     "data": {
      "text/plain": [
       "9.999817146200755e-07"
      ]
     },
     "execution_count": 43,
     "metadata": {},
     "output_type": "execute_result"
    }
   ],
   "source": [
    "from rectools.models.random import RandomModel\n",
    "\n",
    "model = RandomModel()\n",
    "model.fit(dataset)\n",
    "recos = model.recommend(\n",
    "    users=df_ratings.user_id.unique(),\n",
    "    dataset=dataset, \n",
    "    k=3,\n",
    "    filter_viewed=True\n",
    ")\n",
    "\n",
    "MAP(k=3).calc(recos, submission_for_tests)"
   ]
  },
  {
   "cell_type": "code",
   "execution_count": 44,
   "metadata": {},
   "outputs": [],
   "source": [
    "from rectools.models import LightFMWrapperModel\n",
    "from lightfm import LightFM\n",
    "\n",
    "model = LightFMWrapperModel(\n",
    "        # внутри модели указываем параметр no_components\n",
    "        # это размезность эмбеддингов, которые выучит модель\n",
    "        model=LightFM(no_components = 30)\n",
    "        )\n",
    "\n",
    "model.fit(dataset)\n",
    "recos = model.recommend(\n",
    "    users=users_for_tests,\n",
    "    dataset=dataset,\n",
    "    k=3,\n",
    "    filter_viewed=True,\n",
    ")"
   ]
  },
  {
   "cell_type": "code",
   "execution_count": 45,
   "metadata": {},
   "outputs": [
    {
     "data": {
      "text/plain": [
       "0.005198190661656472"
      ]
     },
     "execution_count": 45,
     "metadata": {},
     "output_type": "execute_result"
    }
   ],
   "source": [
    "MAP(k=3).calc(recos, submission_for_tests)"
   ]
  },
  {
   "cell_type": "code",
   "execution_count": 9,
   "metadata": {},
   "outputs": [],
   "source": [
    "hot_users = set(submission_for_tests[Columns.User].values) & set(df_ratings[Columns.User].values)\n",
    "cold_users = set(submission_for_tests[Columns.User].values) - set(df_ratings[Columns.User].values)\n"
   ]
  },
  {
   "cell_type": "code",
   "execution_count": 47,
   "metadata": {},
   "outputs": [],
   "source": [
    "# Давайте для холодных просто поплуярные пикать, а для горячих с помощью LightFM\n",
    "\n",
    "lightfm_recos = model.recommend(\n",
    "    users=hot_users,\n",
    "    dataset=dataset,\n",
    "    k=3,\n",
    "    filter_viewed=True\n",
    ")\n",
    "\n",
    "popular_model = PopularModel()\n",
    "popular_model.fit(dataset=dataset)\n",
    "popular_recos = popular_model.recommend(\n",
    "    users=cold_users,\n",
    "    dataset=dataset,\n",
    "    k=3,\n",
    "    filter_viewed=True\n",
    ")"
   ]
  },
  {
   "cell_type": "code",
   "execution_count": 48,
   "metadata": {},
   "outputs": [],
   "source": [
    "concat_recos = pd.concat([popular_recos, lightfm_recos])"
   ]
  },
  {
   "cell_type": "code",
   "execution_count": 49,
   "metadata": {},
   "outputs": [
    {
     "data": {
      "text/plain": [
       "0.0054249008018139085"
      ]
     },
     "execution_count": 49,
     "metadata": {},
     "output_type": "execute_result"
    }
   ],
   "source": [
    "MAP(k=3).calc(concat_recos, submission_for_tests)"
   ]
  },
  {
   "cell_type": "code",
   "execution_count": 50,
   "metadata": {},
   "outputs": [
    {
     "data": {
      "text/plain": [
       "<Axes: xlabel='id', ylabel='Count'>"
      ]
     },
     "execution_count": 50,
     "metadata": {},
     "output_type": "execute_result"
    },
    {
     "data": {
      "image/png": "[encoded data removed]",
      "text/plain": [
       "<Figure size 640x480 with 1 Axes>"
      ]
     },
     "metadata": {},
     "output_type": "display_data"
    }
   ],
   "source": [
    "import seaborn as sns\n",
    "sns.histplot(data=df, x=\"id\")"
   ]
  },
  {
   "cell_type": "code",
   "execution_count": 22,
   "metadata": {},
   "outputs": [
    {
     "name": "stdout",
     "output_type": "stream",
     "text": [
      "K: 1  MAP@k: 0.0012284061091454327 Score 0.14740873309745192\n",
      "K: 3  MAP@k: 0.007325008914122715 Score 0.8790010696947258\n",
      "K: 5  MAP@k: 0.008044995748649164 Score 0.9653994898378997\n",
      "K: 7  MAP@k: 0.00835641862548799 Score 1.0027702350585588\n",
      "K: 9  MAP@k: 0.008526986935096046 Score 1.0232384322115256\n",
      "K: 11  MAP@k: 0.008653984612852795 Score 1.0384781535423353\n",
      "K: 13  MAP@k: 0.0087339831500224 Score 1.0480779780026879\n",
      "K: 15  MAP@k: 0.008800410506779302 Score 1.0560492608135164\n",
      "K: 17  MAP@k: 0.008850552447040966 Score 1.062066293644916\n",
      "K: 19  MAP@k: 0.008907551404774313 Score 1.0689061685729175\n",
      "K: 21  MAP@k: 0.008959550453934555 Score 1.0751460544721465\n",
      "K: 23  MAP@k: 0.008984978560392036 Score 1.0781974272470443\n",
      "K: 25  MAP@k: 0.00900683530358302 Score 1.0808202364299624\n",
      "K: 27  MAP@k: 0.009028406337712682 Score 1.0834087605255218\n"
     ]
    },
    {
     "ename": "KeyboardInterrupt",
     "evalue": "",
     "output_type": "error",
     "traceback": [
      "\u001b[1;31m---------------------------------------------------------------------------\u001b[0m",
      "\u001b[1;31mKeyboardInterrupt\u001b[0m                         Traceback (most recent call last)",
      "Cell \u001b[1;32mIn[22], line 24\u001b[0m\n\u001b[0;32m     19\u001b[0m \u001b[38;5;28;01mfor\u001b[39;00m K \u001b[38;5;129;01min\u001b[39;00m \u001b[38;5;28mrange\u001b[39m(\u001b[38;5;241m1\u001b[39m, \u001b[38;5;241m101\u001b[39m, \u001b[38;5;241m2\u001b[39m):\n\u001b[0;32m     20\u001b[0m     bm25knn_model \u001b[38;5;241m=\u001b[39m ImplicitItemKNNWrapperModel(\n\u001b[0;32m     21\u001b[0m     model\u001b[38;5;241m=\u001b[39mBM25Recommender(K\u001b[38;5;241m=\u001b[39mK)\n\u001b[0;32m     22\u001b[0m     )\n\u001b[1;32m---> 24\u001b[0m     \u001b[43mbm25knn_model\u001b[49m\u001b[38;5;241;43m.\u001b[39;49m\u001b[43mfit\u001b[49m\u001b[43m(\u001b[49m\u001b[43mdataset\u001b[49m\u001b[43m)\u001b[49m\n\u001b[0;32m     25\u001b[0m     bm25knn_recos \u001b[38;5;241m=\u001b[39m bm25knn_model\u001b[38;5;241m.\u001b[39mrecommend(\n\u001b[0;32m     26\u001b[0m         users\u001b[38;5;241m=\u001b[39mhot_users,\n\u001b[0;32m     27\u001b[0m         dataset\u001b[38;5;241m=\u001b[39mdataset,\n\u001b[0;32m     28\u001b[0m         k\u001b[38;5;241m=\u001b[39m\u001b[38;5;241m3\u001b[39m,\n\u001b[0;32m     29\u001b[0m         filter_viewed\u001b[38;5;241m=\u001b[39m\u001b[38;5;28;01mTrue\u001b[39;00m\n\u001b[0;32m     30\u001b[0m     )\n\u001b[0;32m     31\u001b[0m     concat_recos \u001b[38;5;241m=\u001b[39m pd\u001b[38;5;241m.\u001b[39mconcat([popular_recos, bm25knn_recos])\n",
      "File \u001b[1;32mc:\\Python312\\Lib\\site-packages\\rectools\\models\\base.py:69\u001b[0m, in \u001b[0;36mModelBase.fit\u001b[1;34m(self, dataset, *args, **kwargs)\u001b[0m\n\u001b[0;32m     56\u001b[0m \u001b[38;5;28;01mdef\u001b[39;00m \u001b[38;5;21mfit\u001b[39m(\u001b[38;5;28mself\u001b[39m: T, dataset: Dataset, \u001b[38;5;241m*\u001b[39margs: tp\u001b[38;5;241m.\u001b[39mAny, \u001b[38;5;241m*\u001b[39m\u001b[38;5;241m*\u001b[39mkwargs: tp\u001b[38;5;241m.\u001b[39mAny) \u001b[38;5;241m-\u001b[39m\u001b[38;5;241m>\u001b[39m T:\n\u001b[0;32m     57\u001b[0m \u001b[38;5;250m    \u001b[39m\u001b[38;5;124;03m\"\"\"\u001b[39;00m\n\u001b[0;32m     58\u001b[0m \u001b[38;5;124;03m    Fit model.\u001b[39;00m\n\u001b[0;32m     59\u001b[0m \n\u001b[1;32m   (...)\u001b[0m\n\u001b[0;32m     67\u001b[0m \u001b[38;5;124;03m    self\u001b[39;00m\n\u001b[0;32m     68\u001b[0m \u001b[38;5;124;03m    \"\"\"\u001b[39;00m\n\u001b[1;32m---> 69\u001b[0m     \u001b[38;5;28;43mself\u001b[39;49m\u001b[38;5;241;43m.\u001b[39;49m\u001b[43m_fit\u001b[49m\u001b[43m(\u001b[49m\u001b[43mdataset\u001b[49m\u001b[43m,\u001b[49m\u001b[43m \u001b[49m\u001b[38;5;241;43m*\u001b[39;49m\u001b[43margs\u001b[49m\u001b[43m,\u001b[49m\u001b[43m \u001b[49m\u001b[38;5;241;43m*\u001b[39;49m\u001b[38;5;241;43m*\u001b[39;49m\u001b[43mkwargs\u001b[49m\u001b[43m)\u001b[49m\n\u001b[0;32m     70\u001b[0m     \u001b[38;5;28mself\u001b[39m\u001b[38;5;241m.\u001b[39mis_fitted \u001b[38;5;241m=\u001b[39m \u001b[38;5;28;01mTrue\u001b[39;00m\n\u001b[0;32m     71\u001b[0m     \u001b[38;5;28;01mreturn\u001b[39;00m \u001b[38;5;28mself\u001b[39m\n",
      "File \u001b[1;32mc:\\Python312\\Lib\\site-packages\\rectools\\models\\implicit_knn.py:62\u001b[0m, in \u001b[0;36mImplicitItemKNNWrapperModel._fit\u001b[1;34m(self, dataset)\u001b[0m\n\u001b[0;32m     60\u001b[0m \u001b[38;5;28;01mwith\u001b[39;00m warnings\u001b[38;5;241m.\u001b[39mcatch_warnings():\n\u001b[0;32m     61\u001b[0m     warnings\u001b[38;5;241m.\u001b[39mfilterwarnings(action\u001b[38;5;241m=\u001b[39m\u001b[38;5;124m\"\u001b[39m\u001b[38;5;124mignore\u001b[39m\u001b[38;5;124m\"\u001b[39m, category\u001b[38;5;241m=\u001b[39mParameterWarning, message\u001b[38;5;241m=\u001b[39m\u001b[38;5;124m\"\u001b[39m\u001b[38;5;124mMethod expects CSR input\u001b[39m\u001b[38;5;124m\"\u001b[39m)\n\u001b[1;32m---> 62\u001b[0m     \u001b[38;5;28;43mself\u001b[39;49m\u001b[38;5;241;43m.\u001b[39;49m\u001b[43mmodel\u001b[49m\u001b[38;5;241;43m.\u001b[39;49m\u001b[43mfit\u001b[49m\u001b[43m(\u001b[49m\u001b[43mui_csr\u001b[49m\u001b[43m,\u001b[49m\u001b[43m \u001b[49m\u001b[43mshow_progress\u001b[49m\u001b[38;5;241;43m=\u001b[39;49m\u001b[38;5;28;43mself\u001b[39;49m\u001b[38;5;241;43m.\u001b[39;49m\u001b[43mverbose\u001b[49m\u001b[43m \u001b[49m\u001b[38;5;241;43m>\u001b[39;49m\u001b[43m \u001b[49m\u001b[38;5;241;43m0\u001b[39;49m\u001b[43m)\u001b[49m\n",
      "File \u001b[1;32mc:\\Python312\\Lib\\site-packages\\implicit\\nearest_neighbours.py:213\u001b[0m, in \u001b[0;36mBM25Recommender.fit\u001b[1;34m(self, counts, show_progress, callback)\u001b[0m\n\u001b[0;32m    211\u001b[0m \u001b[38;5;28;01mdef\u001b[39;00m \u001b[38;5;21mfit\u001b[39m(\u001b[38;5;28mself\u001b[39m, counts, show_progress\u001b[38;5;241m=\u001b[39m\u001b[38;5;28;01mTrue\u001b[39;00m, callback\u001b[38;5;241m=\u001b[39m\u001b[38;5;28;01mNone\u001b[39;00m):\n\u001b[0;32m    212\u001b[0m     weighted \u001b[38;5;241m=\u001b[39m bm25_weight(counts\u001b[38;5;241m.\u001b[39mT, \u001b[38;5;28mself\u001b[39m\u001b[38;5;241m.\u001b[39mK1, \u001b[38;5;28mself\u001b[39m\u001b[38;5;241m.\u001b[39mB)\u001b[38;5;241m.\u001b[39mT\n\u001b[1;32m--> 213\u001b[0m     \u001b[43mItemItemRecommender\u001b[49m\u001b[38;5;241;43m.\u001b[39;49m\u001b[43mfit\u001b[49m\u001b[43m(\u001b[49m\u001b[38;5;28;43mself\u001b[39;49m\u001b[43m,\u001b[49m\u001b[43m \u001b[49m\u001b[43mweighted\u001b[49m\u001b[43m,\u001b[49m\u001b[43m \u001b[49m\u001b[43mshow_progress\u001b[49m\u001b[43m,\u001b[49m\u001b[43m \u001b[49m\u001b[43mcallback\u001b[49m\u001b[43m)\u001b[49m\n",
      "File \u001b[1;32mc:\\Python312\\Lib\\site-packages\\implicit\\nearest_neighbours.py:35\u001b[0m, in \u001b[0;36mItemItemRecommender.fit\u001b[1;34m(self, weighted, show_progress, callback)\u001b[0m\n\u001b[0;32m     32\u001b[0m \u001b[38;5;28;01mif\u001b[39;00m callback:\n\u001b[0;32m     33\u001b[0m     \u001b[38;5;28;01mraise\u001b[39;00m \u001b[38;5;167;01mNotImplementedError\u001b[39;00m(\u001b[38;5;124m\"\u001b[39m\u001b[38;5;124mcallback isn\u001b[39m\u001b[38;5;124m'\u001b[39m\u001b[38;5;124mt support on ItemItemRecommender.fit\u001b[39m\u001b[38;5;124m\"\u001b[39m)\n\u001b[1;32m---> 35\u001b[0m \u001b[38;5;28mself\u001b[39m\u001b[38;5;241m.\u001b[39msimilarity \u001b[38;5;241m=\u001b[39m \u001b[43mall_pairs_knn\u001b[49m\u001b[43m(\u001b[49m\n\u001b[0;32m     36\u001b[0m \u001b[43m    \u001b[49m\u001b[43mweighted\u001b[49m\u001b[43m,\u001b[49m\n\u001b[0;32m     37\u001b[0m \u001b[43m    \u001b[49m\u001b[38;5;28;43mself\u001b[39;49m\u001b[38;5;241;43m.\u001b[39;49m\u001b[43mK\u001b[49m\u001b[43m,\u001b[49m\n\u001b[0;32m     38\u001b[0m \u001b[43m    \u001b[49m\u001b[43mshow_progress\u001b[49m\u001b[38;5;241;43m=\u001b[39;49m\u001b[43mshow_progress\u001b[49m\u001b[43m,\u001b[49m\n\u001b[0;32m     39\u001b[0m \u001b[43m    \u001b[49m\u001b[43mnum_threads\u001b[49m\u001b[38;5;241;43m=\u001b[39;49m\u001b[38;5;28;43mself\u001b[39;49m\u001b[38;5;241;43m.\u001b[39;49m\u001b[43mnum_threads\u001b[49m\u001b[43m,\u001b[49m\n\u001b[0;32m     40\u001b[0m \u001b[43m\u001b[49m\u001b[43m)\u001b[49m\u001b[38;5;241m.\u001b[39mtocsr()\n\u001b[0;32m     41\u001b[0m \u001b[38;5;28mself\u001b[39m\u001b[38;5;241m.\u001b[39mscorer \u001b[38;5;241m=\u001b[39m NearestNeighboursScorer(\u001b[38;5;28mself\u001b[39m\u001b[38;5;241m.\u001b[39msimilarity)\n",
      "File \u001b[1;32m_nearest_neighbours.pyx:163\u001b[0m, in \u001b[0;36mimplicit._nearest_neighbours.all_pairs_knn\u001b[1;34m()\u001b[0m\n",
      "File \u001b[1;32mc:\\Python312\\Lib\\site-packages\\tqdm\\notebook.py:260\u001b[0m, in \u001b[0;36mtqdm_notebook.update\u001b[1;34m(self, n)\u001b[0m\n\u001b[0;32m    256\u001b[0m         \u001b[38;5;28;01mraise\u001b[39;00m\n\u001b[0;32m    257\u001b[0m     \u001b[38;5;66;03m# NB: don't `finally: close()`\u001b[39;00m\n\u001b[0;32m    258\u001b[0m     \u001b[38;5;66;03m# since this could be a shared bar which the user will `reset()`\u001b[39;00m\n\u001b[1;32m--> 260\u001b[0m \u001b[38;5;28;01mdef\u001b[39;00m \u001b[38;5;21mupdate\u001b[39m(\u001b[38;5;28mself\u001b[39m, n\u001b[38;5;241m=\u001b[39m\u001b[38;5;241m1\u001b[39m):\n\u001b[0;32m    261\u001b[0m     \u001b[38;5;28;01mtry\u001b[39;00m:\n\u001b[0;32m    262\u001b[0m         \u001b[38;5;28;01mreturn\u001b[39;00m \u001b[38;5;28msuper\u001b[39m()\u001b[38;5;241m.\u001b[39mupdate(n\u001b[38;5;241m=\u001b[39mn)\n",
      "\u001b[1;31mKeyboardInterrupt\u001b[0m: "
     ]
    }
   ],
   "source": [
    "# kNN with BM25\n",
    "from rectools.models import ImplicitItemKNNWrapperModel\n",
    "from implicit.nearest_neighbours import BM25Recommender\n",
    "\n",
    "\n",
    "\n",
    "\n",
    "popular_model = PopularModel()\n",
    "popular_model.fit(dataset=dataset)\n",
    "popular_recos = popular_model.recommend(\n",
    "    users=cold_users,\n",
    "    dataset=dataset,\n",
    "    k=3,\n",
    "    filter_viewed=True\n",
    ")\n",
    "\n",
    "\n",
    "mapka_jopa = []\n",
    "for K in range(1, 101, 2):\n",
    "    bm25knn_model = ImplicitItemKNNWrapperModel(\n",
    "    model=BM25Recommender(K=K)\n",
    "    )\n",
    "\n",
    "    bm25knn_model.fit(dataset)\n",
    "    bm25knn_recos = bm25knn_model.recommend(\n",
    "        users=hot_users,\n",
    "        dataset=dataset,\n",
    "        k=3,\n",
    "        filter_viewed=True\n",
    "    )\n",
    "    concat_recos = pd.concat([popular_recos, bm25knn_recos])\n",
    "\n",
    "    metric = MAP(k=3).calc(concat_recos, submission_for_tests)\n",
    "    mapka_jopa.append(metric)\n",
    "    print(f\"K: {K}  MAP@k: {metric} Score {metric*120}\")"
   ]
  },
  {
   "cell_type": "code",
   "execution_count": 24,
   "metadata": {},
   "outputs": [
    {
     "name": "stdout",
     "output_type": "stream",
     "text": [
      "K: 1  MAP@k: 0.0012284061091454327 Score 0.14740873309745192\n",
      "K: 3  MAP@k: 0.012977048419686036 Score 1.5572458103623243\n",
      "K: 5  MAP@k: 0.014130170191173644 Score 1.6956204229408374\n",
      "K: 7  MAP@k: 0.01442945043290637 Score 1.7315340519487645\n",
      "K: 9  MAP@k: 0.014523734423141976 Score 1.7428481307770372\n",
      "K: 11  MAP@k: 0.014604304378434223 Score 1.752516525412107\n",
      "K: 13  MAP@k: 0.014681302970459964 Score 1.7617563564551957\n",
      "K: 15  MAP@k: 0.014734873419457471 Score 1.7681848103348965\n",
      "K: 17  MAP@k: 0.014779444033023394 Score 1.7735332839628073\n",
      "K: 19  MAP@k: 0.014799729376377118 Score 1.7759675251652542\n",
      "K: 21  MAP@k: 0.014852299843659999 Score 1.7822759812392\n",
      "K: 23  MAP@k: 0.014909441655924007 Score 1.7891329987108808\n",
      "K: 25  MAP@k: 0.014994297247136048 Score 1.7993156696563257\n",
      "K: 27  MAP@k: 0.0150505819322161 Score 1.806069831865932\n",
      "K: 29  MAP@k: 0.015067010203241993 Score 1.8080412243890391\n",
      "K: 31  MAP@k: 0.015099295327171159 Score 1.811915439260539\n",
      "K: 33  MAP@k: 0.015144723067921034 Score 1.8173667681505241\n",
      "K: 35  MAP@k: 0.015177865319034168 Score 1.8213438382841\n",
      "K: 37  MAP@k: 0.01522215022353877 Score 1.8266580268246524\n",
      "K: 39  MAP@k: 0.015235578549420814 Score 1.8282694259304977\n",
      "K: 41  MAP@k: 0.015250863984201434 Score 1.830103678104172\n",
      "K: 43  MAP@k: 0.015254292492937273 Score 1.8305150991524728\n",
      "K: 45  MAP@k: 0.015258292419795752 Score 1.8309950903754901\n",
      "K: 47  MAP@k: 0.015264720873675452 Score 1.8317665048410543\n"
     ]
    },
    {
     "ename": "KeyboardInterrupt",
     "evalue": "",
     "output_type": "error",
     "traceback": [
      "\u001b[1;31m---------------------------------------------------------------------------\u001b[0m",
      "\u001b[1;31mKeyboardInterrupt\u001b[0m                         Traceback (most recent call last)",
      "Cell \u001b[1;32mIn[24], line 25\u001b[0m\n\u001b[0;32m     20\u001b[0m \u001b[38;5;28;01mfor\u001b[39;00m K \u001b[38;5;129;01min\u001b[39;00m \u001b[38;5;28mrange\u001b[39m(\u001b[38;5;241m1\u001b[39m, \u001b[38;5;241m101\u001b[39m, \u001b[38;5;241m2\u001b[39m):\n\u001b[0;32m     21\u001b[0m     cosineknn_model \u001b[38;5;241m=\u001b[39m ImplicitItemKNNWrapperModel(\n\u001b[0;32m     22\u001b[0m     model\u001b[38;5;241m=\u001b[39mCosineRecommender(K\u001b[38;5;241m=\u001b[39mK)\n\u001b[0;32m     23\u001b[0m     )\n\u001b[1;32m---> 25\u001b[0m     \u001b[43mcosineknn_model\u001b[49m\u001b[38;5;241;43m.\u001b[39;49m\u001b[43mfit\u001b[49m\u001b[43m(\u001b[49m\u001b[43mdataset\u001b[49m\u001b[43m)\u001b[49m\n\u001b[0;32m     26\u001b[0m     cosineknn_recos \u001b[38;5;241m=\u001b[39m cosineknn_model\u001b[38;5;241m.\u001b[39mrecommend(\n\u001b[0;32m     27\u001b[0m         users\u001b[38;5;241m=\u001b[39mhot_users,\n\u001b[0;32m     28\u001b[0m         dataset\u001b[38;5;241m=\u001b[39mdataset,\n\u001b[0;32m     29\u001b[0m         k\u001b[38;5;241m=\u001b[39m\u001b[38;5;241m3\u001b[39m,\n\u001b[0;32m     30\u001b[0m         filter_viewed\u001b[38;5;241m=\u001b[39m\u001b[38;5;28;01mTrue\u001b[39;00m\n\u001b[0;32m     31\u001b[0m     )\n\u001b[0;32m     32\u001b[0m     concat_recos \u001b[38;5;241m=\u001b[39m pd\u001b[38;5;241m.\u001b[39mconcat([popular_recos, cosineknn_recos])\n",
      "File \u001b[1;32mc:\\Python312\\Lib\\site-packages\\rectools\\models\\base.py:69\u001b[0m, in \u001b[0;36mModelBase.fit\u001b[1;34m(self, dataset, *args, **kwargs)\u001b[0m\n\u001b[0;32m     56\u001b[0m \u001b[38;5;28;01mdef\u001b[39;00m \u001b[38;5;21mfit\u001b[39m(\u001b[38;5;28mself\u001b[39m: T, dataset: Dataset, \u001b[38;5;241m*\u001b[39margs: tp\u001b[38;5;241m.\u001b[39mAny, \u001b[38;5;241m*\u001b[39m\u001b[38;5;241m*\u001b[39mkwargs: tp\u001b[38;5;241m.\u001b[39mAny) \u001b[38;5;241m-\u001b[39m\u001b[38;5;241m>\u001b[39m T:\n\u001b[0;32m     57\u001b[0m \u001b[38;5;250m    \u001b[39m\u001b[38;5;124;03m\"\"\"\u001b[39;00m\n\u001b[0;32m     58\u001b[0m \u001b[38;5;124;03m    Fit model.\u001b[39;00m\n\u001b[0;32m     59\u001b[0m \n\u001b[1;32m   (...)\u001b[0m\n\u001b[0;32m     67\u001b[0m \u001b[38;5;124;03m    self\u001b[39;00m\n\u001b[0;32m     68\u001b[0m \u001b[38;5;124;03m    \"\"\"\u001b[39;00m\n\u001b[1;32m---> 69\u001b[0m     \u001b[38;5;28;43mself\u001b[39;49m\u001b[38;5;241;43m.\u001b[39;49m\u001b[43m_fit\u001b[49m\u001b[43m(\u001b[49m\u001b[43mdataset\u001b[49m\u001b[43m,\u001b[49m\u001b[43m \u001b[49m\u001b[38;5;241;43m*\u001b[39;49m\u001b[43margs\u001b[49m\u001b[43m,\u001b[49m\u001b[43m \u001b[49m\u001b[38;5;241;43m*\u001b[39;49m\u001b[38;5;241;43m*\u001b[39;49m\u001b[43mkwargs\u001b[49m\u001b[43m)\u001b[49m\n\u001b[0;32m     70\u001b[0m     \u001b[38;5;28mself\u001b[39m\u001b[38;5;241m.\u001b[39mis_fitted \u001b[38;5;241m=\u001b[39m \u001b[38;5;28;01mTrue\u001b[39;00m\n\u001b[0;32m     71\u001b[0m     \u001b[38;5;28;01mreturn\u001b[39;00m \u001b[38;5;28mself\u001b[39m\n",
      "File \u001b[1;32mc:\\Python312\\Lib\\site-packages\\rectools\\models\\implicit_knn.py:62\u001b[0m, in \u001b[0;36mImplicitItemKNNWrapperModel._fit\u001b[1;34m(self, dataset)\u001b[0m\n\u001b[0;32m     60\u001b[0m \u001b[38;5;28;01mwith\u001b[39;00m warnings\u001b[38;5;241m.\u001b[39mcatch_warnings():\n\u001b[0;32m     61\u001b[0m     warnings\u001b[38;5;241m.\u001b[39mfilterwarnings(action\u001b[38;5;241m=\u001b[39m\u001b[38;5;124m\"\u001b[39m\u001b[38;5;124mignore\u001b[39m\u001b[38;5;124m\"\u001b[39m, category\u001b[38;5;241m=\u001b[39mParameterWarning, message\u001b[38;5;241m=\u001b[39m\u001b[38;5;124m\"\u001b[39m\u001b[38;5;124mMethod expects CSR input\u001b[39m\u001b[38;5;124m\"\u001b[39m)\n\u001b[1;32m---> 62\u001b[0m     \u001b[38;5;28;43mself\u001b[39;49m\u001b[38;5;241;43m.\u001b[39;49m\u001b[43mmodel\u001b[49m\u001b[38;5;241;43m.\u001b[39;49m\u001b[43mfit\u001b[49m\u001b[43m(\u001b[49m\u001b[43mui_csr\u001b[49m\u001b[43m,\u001b[49m\u001b[43m \u001b[49m\u001b[43mshow_progress\u001b[49m\u001b[38;5;241;43m=\u001b[39;49m\u001b[38;5;28;43mself\u001b[39;49m\u001b[38;5;241;43m.\u001b[39;49m\u001b[43mverbose\u001b[49m\u001b[43m \u001b[49m\u001b[38;5;241;43m>\u001b[39;49m\u001b[43m \u001b[49m\u001b[38;5;241;43m0\u001b[39;49m\u001b[43m)\u001b[49m\n",
      "File \u001b[1;32mc:\\Python312\\Lib\\site-packages\\implicit\\nearest_neighbours.py:192\u001b[0m, in \u001b[0;36mCosineRecommender.fit\u001b[1;34m(self, counts, show_progress, callback)\u001b[0m\n\u001b[0;32m    190\u001b[0m \u001b[38;5;28;01mdef\u001b[39;00m \u001b[38;5;21mfit\u001b[39m(\u001b[38;5;28mself\u001b[39m, counts, show_progress\u001b[38;5;241m=\u001b[39m\u001b[38;5;28;01mTrue\u001b[39;00m, callback\u001b[38;5;241m=\u001b[39m\u001b[38;5;28;01mNone\u001b[39;00m):\n\u001b[0;32m    191\u001b[0m     \u001b[38;5;66;03m# cosine distance is just the dot-product of a normalized matrix\u001b[39;00m\n\u001b[1;32m--> 192\u001b[0m     \u001b[43mItemItemRecommender\u001b[49m\u001b[38;5;241;43m.\u001b[39;49m\u001b[43mfit\u001b[49m\u001b[43m(\u001b[49m\u001b[38;5;28;43mself\u001b[39;49m\u001b[43m,\u001b[49m\u001b[43m \u001b[49m\u001b[43mnormalize\u001b[49m\u001b[43m(\u001b[49m\u001b[43mcounts\u001b[49m\u001b[38;5;241;43m.\u001b[39;49m\u001b[43mT\u001b[49m\u001b[43m)\u001b[49m\u001b[38;5;241;43m.\u001b[39;49m\u001b[43mT\u001b[49m\u001b[43m,\u001b[49m\u001b[43m \u001b[49m\u001b[43mshow_progress\u001b[49m\u001b[43m,\u001b[49m\u001b[43m \u001b[49m\u001b[43mcallback\u001b[49m\u001b[43m)\u001b[49m\n",
      "File \u001b[1;32mc:\\Python312\\Lib\\site-packages\\implicit\\nearest_neighbours.py:35\u001b[0m, in \u001b[0;36mItemItemRecommender.fit\u001b[1;34m(self, weighted, show_progress, callback)\u001b[0m\n\u001b[0;32m     32\u001b[0m \u001b[38;5;28;01mif\u001b[39;00m callback:\n\u001b[0;32m     33\u001b[0m     \u001b[38;5;28;01mraise\u001b[39;00m \u001b[38;5;167;01mNotImplementedError\u001b[39;00m(\u001b[38;5;124m\"\u001b[39m\u001b[38;5;124mcallback isn\u001b[39m\u001b[38;5;124m'\u001b[39m\u001b[38;5;124mt support on ItemItemRecommender.fit\u001b[39m\u001b[38;5;124m\"\u001b[39m)\n\u001b[1;32m---> 35\u001b[0m \u001b[38;5;28mself\u001b[39m\u001b[38;5;241m.\u001b[39msimilarity \u001b[38;5;241m=\u001b[39m \u001b[43mall_pairs_knn\u001b[49m\u001b[43m(\u001b[49m\n\u001b[0;32m     36\u001b[0m \u001b[43m    \u001b[49m\u001b[43mweighted\u001b[49m\u001b[43m,\u001b[49m\n\u001b[0;32m     37\u001b[0m \u001b[43m    \u001b[49m\u001b[38;5;28;43mself\u001b[39;49m\u001b[38;5;241;43m.\u001b[39;49m\u001b[43mK\u001b[49m\u001b[43m,\u001b[49m\n\u001b[0;32m     38\u001b[0m \u001b[43m    \u001b[49m\u001b[43mshow_progress\u001b[49m\u001b[38;5;241;43m=\u001b[39;49m\u001b[43mshow_progress\u001b[49m\u001b[43m,\u001b[49m\n\u001b[0;32m     39\u001b[0m \u001b[43m    \u001b[49m\u001b[43mnum_threads\u001b[49m\u001b[38;5;241;43m=\u001b[39;49m\u001b[38;5;28;43mself\u001b[39;49m\u001b[38;5;241;43m.\u001b[39;49m\u001b[43mnum_threads\u001b[49m\u001b[43m,\u001b[49m\n\u001b[0;32m     40\u001b[0m \u001b[43m\u001b[49m\u001b[43m)\u001b[49m\u001b[38;5;241m.\u001b[39mtocsr()\n\u001b[0;32m     41\u001b[0m \u001b[38;5;28mself\u001b[39m\u001b[38;5;241m.\u001b[39mscorer \u001b[38;5;241m=\u001b[39m NearestNeighboursScorer(\u001b[38;5;28mself\u001b[39m\u001b[38;5;241m.\u001b[39msimilarity)\n",
      "File \u001b[1;32m_nearest_neighbours.pyx:163\u001b[0m, in \u001b[0;36mimplicit._nearest_neighbours.all_pairs_knn\u001b[1;34m()\u001b[0m\n",
      "File \u001b[1;32mc:\\Python312\\Lib\\site-packages\\tqdm\\notebook.py:260\u001b[0m, in \u001b[0;36mtqdm_notebook.update\u001b[1;34m(self, n)\u001b[0m\n\u001b[0;32m    256\u001b[0m         \u001b[38;5;28;01mraise\u001b[39;00m\n\u001b[0;32m    257\u001b[0m     \u001b[38;5;66;03m# NB: don't `finally: close()`\u001b[39;00m\n\u001b[0;32m    258\u001b[0m     \u001b[38;5;66;03m# since this could be a shared bar which the user will `reset()`\u001b[39;00m\n\u001b[1;32m--> 260\u001b[0m \u001b[38;5;28;01mdef\u001b[39;00m \u001b[38;5;21mupdate\u001b[39m(\u001b[38;5;28mself\u001b[39m, n\u001b[38;5;241m=\u001b[39m\u001b[38;5;241m1\u001b[39m):\n\u001b[0;32m    261\u001b[0m     \u001b[38;5;28;01mtry\u001b[39;00m:\n\u001b[0;32m    262\u001b[0m         \u001b[38;5;28;01mreturn\u001b[39;00m \u001b[38;5;28msuper\u001b[39m()\u001b[38;5;241m.\u001b[39mupdate(n\u001b[38;5;241m=\u001b[39mn)\n",
      "\u001b[1;31mKeyboardInterrupt\u001b[0m: "
     ]
    }
   ],
   "source": [
    "# Cosine with kNN\n",
    "\n",
    "from implicit.nearest_neighbours import CosineRecommender\n",
    "\n",
    "\n",
    "\n",
    "\n",
    "popular_model = PopularModel()\n",
    "popular_model.fit(dataset=dataset)\n",
    "popular_recos = popular_model.recommend(\n",
    "    users=cold_users,\n",
    "    dataset=dataset,\n",
    "    k=3,\n",
    "    filter_viewed=True\n",
    ")\n",
    "\n",
    "\n",
    "\n",
    "mapka_jopa = []\n",
    "for K in range(1, 101, 2):\n",
    "    cosineknn_model = ImplicitItemKNNWrapperModel(\n",
    "    model=CosineRecommender(K=K)\n",
    "    )\n",
    "\n",
    "    cosineknn_model.fit(dataset)\n",
    "    cosineknn_recos = cosineknn_model.recommend(\n",
    "        users=hot_users,\n",
    "        dataset=dataset,\n",
    "        k=3,\n",
    "        filter_viewed=True\n",
    "    )\n",
    "    concat_recos = pd.concat([popular_recos, cosineknn_recos])\n",
    "\n",
    "    metric=MAP(k=3).calc(concat_recos, submission_for_tests)\n",
    "    mapka_jopa.append(metric)\n",
    "    print(f\"K: {K}  MAP@k: {metric} Score {metric*120}\")"
   ]
  },
  {
   "cell_type": "code",
   "execution_count": 26,
   "metadata": {},
   "outputs": [
    {
     "name": "stdout",
     "output_type": "stream",
     "text": [
      "K: 1  MAP@k: 0.0012284061091454327 Score 0.14740873309745192\n",
      "K: 3  MAP@k: 0.013101474715890914 Score 1.5721769659069098\n",
      "K: 5  MAP@k: 0.014065028525192676 Score 1.6878034230231211\n",
      "K: 7  MAP@k: 0.014473878191941635 Score 1.7368653830329963\n",
      "K: 9  MAP@k: 0.014561448019236216 Score 1.7473737623083458\n",
      "K: 11  MAP@k: 0.014654017755103903 Score 1.7584821306124683\n",
      "K: 13  MAP@k: 0.014747730327216872 Score 1.7697276392660246\n",
      "K: 15  MAP@k: 0.014807872084624734 Score 1.7769446501549682\n",
      "K: 17  MAP@k: 0.014846299953372282 Score 1.781555994404674\n",
      "K: 19  MAP@k: 0.014882727858690586 Score 1.7859273430428704\n",
      "K: 21  MAP@k: 0.014941726779853162 Score 1.7930072135823794\n",
      "K: 23  MAP@k: 0.015028439479963797 Score 1.8034127375956557\n",
      "K: 25  MAP@k: 0.015051296204869396 Score 1.8061555445843276\n",
      "K: 27  MAP@k: 0.015112723653053198 Score 1.8135268383663838\n",
      "K: 29  MAP@k: 0.015132723287345605 Score 1.8159267944814725\n",
      "K: 31  MAP@k: 0.015173722537645028 Score 1.8208467045174033\n"
     ]
    },
    {
     "ename": "KeyboardInterrupt",
     "evalue": "",
     "output_type": "error",
     "traceback": [
      "\u001b[1;31m---------------------------------------------------------------------------\u001b[0m",
      "\u001b[1;31mKeyboardInterrupt\u001b[0m                         Traceback (most recent call last)",
      "Cell \u001b[1;32mIn[26], line 24\u001b[0m\n\u001b[0;32m     19\u001b[0m tfidfknn_model \u001b[38;5;241m=\u001b[39m ImplicitItemKNNWrapperModel(\n\u001b[0;32m     20\u001b[0m model\u001b[38;5;241m=\u001b[39mTFIDFRecommender(K\u001b[38;5;241m=\u001b[39mK)\n\u001b[0;32m     21\u001b[0m )\n\u001b[0;32m     23\u001b[0m tfidfknn_model\u001b[38;5;241m.\u001b[39mfit(dataset)\n\u001b[1;32m---> 24\u001b[0m tfidfknn_recos \u001b[38;5;241m=\u001b[39m \u001b[43mtfidfknn_model\u001b[49m\u001b[38;5;241;43m.\u001b[39;49m\u001b[43mrecommend\u001b[49m\u001b[43m(\u001b[49m\n\u001b[0;32m     25\u001b[0m \u001b[43m    \u001b[49m\u001b[43musers\u001b[49m\u001b[38;5;241;43m=\u001b[39;49m\u001b[43mhot_users\u001b[49m\u001b[43m,\u001b[49m\n\u001b[0;32m     26\u001b[0m \u001b[43m    \u001b[49m\u001b[43mdataset\u001b[49m\u001b[38;5;241;43m=\u001b[39;49m\u001b[43mdataset\u001b[49m\u001b[43m,\u001b[49m\n\u001b[0;32m     27\u001b[0m \u001b[43m    \u001b[49m\u001b[43mk\u001b[49m\u001b[38;5;241;43m=\u001b[39;49m\u001b[38;5;241;43m3\u001b[39;49m\u001b[43m,\u001b[49m\n\u001b[0;32m     28\u001b[0m \u001b[43m    \u001b[49m\u001b[43mfilter_viewed\u001b[49m\u001b[38;5;241;43m=\u001b[39;49m\u001b[38;5;28;43;01mTrue\u001b[39;49;00m\n\u001b[0;32m     29\u001b[0m \u001b[43m\u001b[49m\u001b[43m)\u001b[49m\n\u001b[0;32m     30\u001b[0m concat_recos \u001b[38;5;241m=\u001b[39m pd\u001b[38;5;241m.\u001b[39mconcat([popular_recos, tfidfknn_recos])\n\u001b[0;32m     32\u001b[0m metric\u001b[38;5;241m=\u001b[39mMAP(k\u001b[38;5;241m=\u001b[39m\u001b[38;5;241m3\u001b[39m)\u001b[38;5;241m.\u001b[39mcalc(concat_recos, submission_for_tests)\n",
      "File \u001b[1;32mc:\\Python312\\Lib\\site-packages\\rectools\\models\\base.py:177\u001b[0m, in \u001b[0;36mModelBase.recommend\u001b[1;34m(self, users, dataset, k, filter_viewed, items_to_recommend, add_rank_col, on_unsupported_targets)\u001b[0m\n\u001b[0;32m    174\u001b[0m reco_cold \u001b[38;5;241m=\u001b[39m \u001b[38;5;28mself\u001b[39m\u001b[38;5;241m.\u001b[39m_init_semi_internal_reco_triplet()\n\u001b[0;32m    176\u001b[0m \u001b[38;5;28;01mif\u001b[39;00m hot_user_ids\u001b[38;5;241m.\u001b[39msize \u001b[38;5;241m>\u001b[39m \u001b[38;5;241m0\u001b[39m:\n\u001b[1;32m--> 177\u001b[0m     reco_hot \u001b[38;5;241m=\u001b[39m \u001b[38;5;28;43mself\u001b[39;49m\u001b[38;5;241;43m.\u001b[39;49m\u001b[43m_recommend_u2i\u001b[49m\u001b[43m(\u001b[49m\u001b[43mhot_user_ids\u001b[49m\u001b[43m,\u001b[49m\u001b[43m \u001b[49m\u001b[43mdataset\u001b[49m\u001b[43m,\u001b[49m\u001b[43m \u001b[49m\u001b[43mk\u001b[49m\u001b[43m,\u001b[49m\u001b[43m \u001b[49m\u001b[43mfilter_viewed\u001b[49m\u001b[43m,\u001b[49m\u001b[43m \u001b[49m\u001b[43msorted_item_ids_to_recommend\u001b[49m\u001b[43m)\u001b[49m\n\u001b[0;32m    178\u001b[0m \u001b[38;5;28;01mif\u001b[39;00m warm_user_ids\u001b[38;5;241m.\u001b[39msize \u001b[38;5;241m>\u001b[39m \u001b[38;5;241m0\u001b[39m:\n\u001b[0;32m    179\u001b[0m     \u001b[38;5;28;01mif\u001b[39;00m \u001b[38;5;28mself\u001b[39m\u001b[38;5;241m.\u001b[39mrecommends_for_warm:\n",
      "File \u001b[1;32mc:\\Python312\\Lib\\site-packages\\rectools\\models\\implicit_knn.py:78\u001b[0m, in \u001b[0;36mImplicitItemKNNWrapperModel._recommend_u2i\u001b[1;34m(self, user_ids, dataset, k, filter_viewed, sorted_item_ids_to_recommend)\u001b[0m\n\u001b[0;32m     76\u001b[0m all_scores: tp\u001b[38;5;241m.\u001b[39mList[\u001b[38;5;28mfloat\u001b[39m] \u001b[38;5;241m=\u001b[39m []\n\u001b[0;32m     77\u001b[0m \u001b[38;5;28;01mfor\u001b[39;00m user_id \u001b[38;5;129;01min\u001b[39;00m tqdm(user_ids, disable\u001b[38;5;241m=\u001b[39m\u001b[38;5;28mself\u001b[39m\u001b[38;5;241m.\u001b[39mverbose \u001b[38;5;241m==\u001b[39m \u001b[38;5;241m0\u001b[39m):\n\u001b[1;32m---> 78\u001b[0m     reco_ids, reco_scores \u001b[38;5;241m=\u001b[39m \u001b[38;5;28;43mself\u001b[39;49m\u001b[38;5;241;43m.\u001b[39;49m\u001b[43m_recommend_for_user\u001b[49m\u001b[43m(\u001b[49m\n\u001b[0;32m     79\u001b[0m \u001b[43m        \u001b[49m\u001b[43muser_id\u001b[49m\u001b[43m,\u001b[49m\n\u001b[0;32m     80\u001b[0m \u001b[43m        \u001b[49m\u001b[43muser_items\u001b[49m\u001b[43m,\u001b[49m\n\u001b[0;32m     81\u001b[0m \u001b[43m        \u001b[49m\u001b[43mk\u001b[49m\u001b[43m,\u001b[49m\n\u001b[0;32m     82\u001b[0m \u001b[43m        \u001b[49m\u001b[43mfilter_viewed\u001b[49m\u001b[43m,\u001b[49m\n\u001b[0;32m     83\u001b[0m \u001b[43m        \u001b[49m\u001b[43msorted_item_ids_to_recommend\u001b[49m\u001b[43m,\u001b[49m\n\u001b[0;32m     84\u001b[0m \u001b[43m    \u001b[49m\u001b[43m)\u001b[49m\n\u001b[0;32m     85\u001b[0m     all_user_ids\u001b[38;5;241m.\u001b[39mextend([user_id] \u001b[38;5;241m*\u001b[39m \u001b[38;5;28mlen\u001b[39m(reco_ids))\n\u001b[0;32m     86\u001b[0m     all_reco_ids\u001b[38;5;241m.\u001b[39mextend(reco_ids)\n",
      "File \u001b[1;32mc:\\Python312\\Lib\\site-packages\\rectools\\models\\implicit_knn.py:117\u001b[0m, in \u001b[0;36mImplicitItemKNNWrapperModel._recommend_for_user\u001b[1;34m(self, user_id, user_items, k, filter_viewed, sorted_item_ids)\u001b[0m\n\u001b[0;32m    114\u001b[0m \u001b[38;5;28;01melse\u001b[39;00m:\n\u001b[0;32m    115\u001b[0m     n_items \u001b[38;5;241m=\u001b[39m k \u001b[38;5;241m+\u001b[39m viewed_ids\u001b[38;5;241m.\u001b[39msize\n\u001b[0;32m    116\u001b[0m     reco, scores \u001b[38;5;241m=\u001b[39m \u001b[38;5;28mself\u001b[39m\u001b[38;5;241m.\u001b[39mmodel\u001b[38;5;241m.\u001b[39mrecommend(\n\u001b[1;32m--> 117\u001b[0m         user_id, \u001b[43muser_items\u001b[49m\u001b[43m[\u001b[49m\u001b[43muser_id\u001b[49m\u001b[43m]\u001b[49m, N\u001b[38;5;241m=\u001b[39mn_items, filter_already_liked_items\u001b[38;5;241m=\u001b[39m\u001b[38;5;28;01mFalse\u001b[39;00m\n\u001b[0;32m    118\u001b[0m     )\n\u001b[0;32m    119\u001b[0m     valid_items_mask \u001b[38;5;241m=\u001b[39m fast_isin_for_sorted_test_elements(reco, viewed_ids, invert\u001b[38;5;241m=\u001b[39m\u001b[38;5;28;01mTrue\u001b[39;00m)\n\u001b[0;32m    121\u001b[0m reco \u001b[38;5;241m=\u001b[39m reco[valid_items_mask][:k]\n",
      "File \u001b[1;32mc:\\Python312\\Lib\\site-packages\\scipy\\sparse\\_index.py:54\u001b[0m, in \u001b[0;36mIndexMixin.__getitem__\u001b[1;34m(self, key)\u001b[0m\n\u001b[0;32m     52\u001b[0m \u001b[38;5;28;01melif\u001b[39;00m \u001b[38;5;28misinstance\u001b[39m(col, \u001b[38;5;28mslice\u001b[39m):\n\u001b[0;32m     53\u001b[0m     \u001b[38;5;28mself\u001b[39m\u001b[38;5;241m.\u001b[39m_raise_on_1d_array_slice()\n\u001b[1;32m---> 54\u001b[0m     \u001b[38;5;28;01mreturn\u001b[39;00m \u001b[38;5;28;43mself\u001b[39;49m\u001b[38;5;241;43m.\u001b[39;49m\u001b[43m_get_intXslice\u001b[49m\u001b[43m(\u001b[49m\u001b[43mrow\u001b[49m\u001b[43m,\u001b[49m\u001b[43m \u001b[49m\u001b[43mcol\u001b[49m\u001b[43m)\u001b[49m\n\u001b[0;32m     55\u001b[0m \u001b[38;5;28;01melif\u001b[39;00m col\u001b[38;5;241m.\u001b[39mndim \u001b[38;5;241m==\u001b[39m \u001b[38;5;241m1\u001b[39m:\n\u001b[0;32m     56\u001b[0m     \u001b[38;5;28mself\u001b[39m\u001b[38;5;241m.\u001b[39m_raise_on_1d_array_slice()\n",
      "File \u001b[1;32mc:\\Python312\\Lib\\site-packages\\scipy\\sparse\\_csr.py:170\u001b[0m, in \u001b[0;36m_csr_base._get_intXslice\u001b[1;34m(self, row, col)\u001b[0m\n\u001b[0;32m    168\u001b[0m \u001b[38;5;28;01mdef\u001b[39;00m \u001b[38;5;21m_get_intXslice\u001b[39m(\u001b[38;5;28mself\u001b[39m, row, col):\n\u001b[0;32m    169\u001b[0m     \u001b[38;5;28;01mif\u001b[39;00m col\u001b[38;5;241m.\u001b[39mstep \u001b[38;5;129;01min\u001b[39;00m (\u001b[38;5;241m1\u001b[39m, \u001b[38;5;28;01mNone\u001b[39;00m):\n\u001b[1;32m--> 170\u001b[0m         \u001b[38;5;28;01mreturn\u001b[39;00m \u001b[38;5;28;43mself\u001b[39;49m\u001b[38;5;241;43m.\u001b[39;49m\u001b[43m_get_submatrix\u001b[49m\u001b[43m(\u001b[49m\u001b[43mrow\u001b[49m\u001b[43m,\u001b[49m\u001b[43m \u001b[49m\u001b[43mcol\u001b[49m\u001b[43m,\u001b[49m\u001b[43m \u001b[49m\u001b[43mcopy\u001b[49m\u001b[38;5;241;43m=\u001b[39;49m\u001b[38;5;28;43;01mTrue\u001b[39;49;00m\u001b[43m)\u001b[49m\n\u001b[0;32m    171\u001b[0m     \u001b[38;5;66;03m# TODO: uncomment this once it's faster:\u001b[39;00m\n\u001b[0;32m    172\u001b[0m     \u001b[38;5;66;03m# return self._getrow(row)._minor_slice(col)\u001b[39;00m\n\u001b[0;32m    174\u001b[0m     M, N \u001b[38;5;241m=\u001b[39m \u001b[38;5;28mself\u001b[39m\u001b[38;5;241m.\u001b[39mshape\n",
      "File \u001b[1;32mc:\\Python312\\Lib\\site-packages\\scipy\\sparse\\_compressed.py:815\u001b[0m, in \u001b[0;36m_cs_matrix._get_submatrix\u001b[1;34m(self, major, minor, copy)\u001b[0m\n\u001b[0;32m    812\u001b[0m \u001b[38;5;28;01mif\u001b[39;00m i0 \u001b[38;5;241m==\u001b[39m \u001b[38;5;241m0\u001b[39m \u001b[38;5;129;01mand\u001b[39;00m j0 \u001b[38;5;241m==\u001b[39m \u001b[38;5;241m0\u001b[39m \u001b[38;5;129;01mand\u001b[39;00m i1 \u001b[38;5;241m==\u001b[39m M \u001b[38;5;129;01mand\u001b[39;00m j1 \u001b[38;5;241m==\u001b[39m N:\n\u001b[0;32m    813\u001b[0m     \u001b[38;5;28;01mreturn\u001b[39;00m \u001b[38;5;28mself\u001b[39m\u001b[38;5;241m.\u001b[39mcopy() \u001b[38;5;28;01mif\u001b[39;00m copy \u001b[38;5;28;01melse\u001b[39;00m \u001b[38;5;28mself\u001b[39m\n\u001b[1;32m--> 815\u001b[0m indptr, indices, data \u001b[38;5;241m=\u001b[39m \u001b[43mget_csr_submatrix\u001b[49m\u001b[43m(\u001b[49m\n\u001b[0;32m    816\u001b[0m \u001b[43m    \u001b[49m\u001b[43mM\u001b[49m\u001b[43m,\u001b[49m\u001b[43m \u001b[49m\u001b[43mN\u001b[49m\u001b[43m,\u001b[49m\u001b[43m \u001b[49m\u001b[38;5;28;43mself\u001b[39;49m\u001b[38;5;241;43m.\u001b[39;49m\u001b[43mindptr\u001b[49m\u001b[43m,\u001b[49m\u001b[43m \u001b[49m\u001b[38;5;28;43mself\u001b[39;49m\u001b[38;5;241;43m.\u001b[39;49m\u001b[43mindices\u001b[49m\u001b[43m,\u001b[49m\u001b[43m \u001b[49m\u001b[38;5;28;43mself\u001b[39;49m\u001b[38;5;241;43m.\u001b[39;49m\u001b[43mdata\u001b[49m\u001b[43m,\u001b[49m\u001b[43m \u001b[49m\u001b[43mi0\u001b[49m\u001b[43m,\u001b[49m\u001b[43m \u001b[49m\u001b[43mi1\u001b[49m\u001b[43m,\u001b[49m\u001b[43m \u001b[49m\u001b[43mj0\u001b[49m\u001b[43m,\u001b[49m\u001b[43m \u001b[49m\u001b[43mj1\u001b[49m\u001b[43m)\u001b[49m\n\u001b[0;32m    818\u001b[0m shape \u001b[38;5;241m=\u001b[39m \u001b[38;5;28mself\u001b[39m\u001b[38;5;241m.\u001b[39m_swap((i1 \u001b[38;5;241m-\u001b[39m i0, j1 \u001b[38;5;241m-\u001b[39m j0))\n\u001b[0;32m    819\u001b[0m \u001b[38;5;28;01mreturn\u001b[39;00m \u001b[38;5;28mself\u001b[39m\u001b[38;5;241m.\u001b[39m\u001b[38;5;18m__class__\u001b[39m((data, indices, indptr), shape\u001b[38;5;241m=\u001b[39mshape,\n\u001b[0;32m    820\u001b[0m                       dtype\u001b[38;5;241m=\u001b[39m\u001b[38;5;28mself\u001b[39m\u001b[38;5;241m.\u001b[39mdtype, copy\u001b[38;5;241m=\u001b[39m\u001b[38;5;28;01mFalse\u001b[39;00m)\n",
      "\u001b[1;31mKeyboardInterrupt\u001b[0m: "
     ]
    }
   ],
   "source": [
    "# Хз зачем тут TFIDF, но пусть будет\n",
    "# TFIDR with kNN\n",
    "\n",
    "from implicit.nearest_neighbours import TFIDFRecommender\n",
    "\n",
    "\n",
    "\n",
    "popular_model = PopularModel()\n",
    "popular_model.fit(dataset=dataset)\n",
    "popular_recos = popular_model.recommend(\n",
    "    users=cold_users,\n",
    "    dataset=dataset,\n",
    "    k=3,\n",
    "    filter_viewed=True\n",
    ")\n",
    "\n",
    "mapka_jopa = []\n",
    "for K in range(1, 101, 2):\n",
    "    tfidfknn_model = ImplicitItemKNNWrapperModel(\n",
    "    model=TFIDFRecommender(K=K)\n",
    "    )\n",
    "\n",
    "    tfidfknn_model.fit(dataset)\n",
    "    tfidfknn_recos = tfidfknn_model.recommend(\n",
    "        users=hot_users,\n",
    "        dataset=dataset,\n",
    "        k=3,\n",
    "        filter_viewed=True\n",
    "    )\n",
    "    concat_recos = pd.concat([popular_recos, tfidfknn_recos])\n",
    "\n",
    "    metric=MAP(k=3).calc(concat_recos, submission_for_tests)\n",
    "    mapka_jopa.append(metric)\n",
    "    print(f\"K: {K}  MAP@k: {metric} Score {metric*120}\")"
   ]
  },
  {
   "cell_type": "code",
   "execution_count": 25,
   "metadata": {},
   "outputs": [
    {
     "ename": "ValueError",
     "evalue": "Buffer dtype mismatch, expected 'double' but got 'float'",
     "output_type": "error",
     "traceback": [
      "\u001b[1;31m---------------------------------------------------------------------------\u001b[0m",
      "\u001b[1;31mValueError\u001b[0m                                Traceback (most recent call last)",
      "Cell \u001b[1;32mIn[25], line 23\u001b[0m\n\u001b[0;32m     18\u001b[0m \u001b[38;5;28;01mfor\u001b[39;00m K \u001b[38;5;129;01min\u001b[39;00m \u001b[38;5;28mrange\u001b[39m(\u001b[38;5;241m1\u001b[39m, \u001b[38;5;241m101\u001b[39m, \u001b[38;5;241m2\u001b[39m):\n\u001b[0;32m     19\u001b[0m     itemitemknn_model \u001b[38;5;241m=\u001b[39m ImplicitItemKNNWrapperModel(\n\u001b[0;32m     20\u001b[0m     model\u001b[38;5;241m=\u001b[39mItemItemRecommender(K\u001b[38;5;241m=\u001b[39mK)\n\u001b[0;32m     21\u001b[0m     )\n\u001b[1;32m---> 23\u001b[0m     \u001b[43mitemitemknn_model\u001b[49m\u001b[38;5;241;43m.\u001b[39;49m\u001b[43mfit\u001b[49m\u001b[43m(\u001b[49m\u001b[43mdataset\u001b[49m\u001b[43m)\u001b[49m\n\u001b[0;32m     24\u001b[0m     itemitemknn_recos \u001b[38;5;241m=\u001b[39m itemitemknn_model\u001b[38;5;241m.\u001b[39mrecommend(\n\u001b[0;32m     25\u001b[0m         users\u001b[38;5;241m=\u001b[39mhot_users,\n\u001b[0;32m     26\u001b[0m         dataset\u001b[38;5;241m=\u001b[39mdataset,\n\u001b[0;32m     27\u001b[0m         k\u001b[38;5;241m=\u001b[39m\u001b[38;5;241m3\u001b[39m,\n\u001b[0;32m     28\u001b[0m         filter_viewed\u001b[38;5;241m=\u001b[39m\u001b[38;5;28;01mTrue\u001b[39;00m\n\u001b[0;32m     29\u001b[0m     )\n\u001b[0;32m     30\u001b[0m     concat_recos \u001b[38;5;241m=\u001b[39m pd\u001b[38;5;241m.\u001b[39mconcat([popular_recos, itemitemknn_recos])\n",
      "File \u001b[1;32mc:\\Python312\\Lib\\site-packages\\rectools\\models\\base.py:69\u001b[0m, in \u001b[0;36mModelBase.fit\u001b[1;34m(self, dataset, *args, **kwargs)\u001b[0m\n\u001b[0;32m     56\u001b[0m \u001b[38;5;28;01mdef\u001b[39;00m \u001b[38;5;21mfit\u001b[39m(\u001b[38;5;28mself\u001b[39m: T, dataset: Dataset, \u001b[38;5;241m*\u001b[39margs: tp\u001b[38;5;241m.\u001b[39mAny, \u001b[38;5;241m*\u001b[39m\u001b[38;5;241m*\u001b[39mkwargs: tp\u001b[38;5;241m.\u001b[39mAny) \u001b[38;5;241m-\u001b[39m\u001b[38;5;241m>\u001b[39m T:\n\u001b[0;32m     57\u001b[0m \u001b[38;5;250m    \u001b[39m\u001b[38;5;124;03m\"\"\"\u001b[39;00m\n\u001b[0;32m     58\u001b[0m \u001b[38;5;124;03m    Fit model.\u001b[39;00m\n\u001b[0;32m     59\u001b[0m \n\u001b[1;32m   (...)\u001b[0m\n\u001b[0;32m     67\u001b[0m \u001b[38;5;124;03m    self\u001b[39;00m\n\u001b[0;32m     68\u001b[0m \u001b[38;5;124;03m    \"\"\"\u001b[39;00m\n\u001b[1;32m---> 69\u001b[0m     \u001b[38;5;28;43mself\u001b[39;49m\u001b[38;5;241;43m.\u001b[39;49m\u001b[43m_fit\u001b[49m\u001b[43m(\u001b[49m\u001b[43mdataset\u001b[49m\u001b[43m,\u001b[49m\u001b[43m \u001b[49m\u001b[38;5;241;43m*\u001b[39;49m\u001b[43margs\u001b[49m\u001b[43m,\u001b[49m\u001b[43m \u001b[49m\u001b[38;5;241;43m*\u001b[39;49m\u001b[38;5;241;43m*\u001b[39;49m\u001b[43mkwargs\u001b[49m\u001b[43m)\u001b[49m\n\u001b[0;32m     70\u001b[0m     \u001b[38;5;28mself\u001b[39m\u001b[38;5;241m.\u001b[39mis_fitted \u001b[38;5;241m=\u001b[39m \u001b[38;5;28;01mTrue\u001b[39;00m\n\u001b[0;32m     71\u001b[0m     \u001b[38;5;28;01mreturn\u001b[39;00m \u001b[38;5;28mself\u001b[39m\n",
      "File \u001b[1;32mc:\\Python312\\Lib\\site-packages\\rectools\\models\\implicit_knn.py:62\u001b[0m, in \u001b[0;36mImplicitItemKNNWrapperModel._fit\u001b[1;34m(self, dataset)\u001b[0m\n\u001b[0;32m     60\u001b[0m \u001b[38;5;28;01mwith\u001b[39;00m warnings\u001b[38;5;241m.\u001b[39mcatch_warnings():\n\u001b[0;32m     61\u001b[0m     warnings\u001b[38;5;241m.\u001b[39mfilterwarnings(action\u001b[38;5;241m=\u001b[39m\u001b[38;5;124m\"\u001b[39m\u001b[38;5;124mignore\u001b[39m\u001b[38;5;124m\"\u001b[39m, category\u001b[38;5;241m=\u001b[39mParameterWarning, message\u001b[38;5;241m=\u001b[39m\u001b[38;5;124m\"\u001b[39m\u001b[38;5;124mMethod expects CSR input\u001b[39m\u001b[38;5;124m\"\u001b[39m)\n\u001b[1;32m---> 62\u001b[0m     \u001b[38;5;28;43mself\u001b[39;49m\u001b[38;5;241;43m.\u001b[39;49m\u001b[43mmodel\u001b[49m\u001b[38;5;241;43m.\u001b[39;49m\u001b[43mfit\u001b[49m\u001b[43m(\u001b[49m\u001b[43mui_csr\u001b[49m\u001b[43m,\u001b[49m\u001b[43m \u001b[49m\u001b[43mshow_progress\u001b[49m\u001b[38;5;241;43m=\u001b[39;49m\u001b[38;5;28;43mself\u001b[39;49m\u001b[38;5;241;43m.\u001b[39;49m\u001b[43mverbose\u001b[49m\u001b[43m \u001b[49m\u001b[38;5;241;43m>\u001b[39;49m\u001b[43m \u001b[49m\u001b[38;5;241;43m0\u001b[39;49m\u001b[43m)\u001b[49m\n",
      "File \u001b[1;32mc:\\Python312\\Lib\\site-packages\\implicit\\nearest_neighbours.py:35\u001b[0m, in \u001b[0;36mItemItemRecommender.fit\u001b[1;34m(self, weighted, show_progress, callback)\u001b[0m\n\u001b[0;32m     32\u001b[0m \u001b[38;5;28;01mif\u001b[39;00m callback:\n\u001b[0;32m     33\u001b[0m     \u001b[38;5;28;01mraise\u001b[39;00m \u001b[38;5;167;01mNotImplementedError\u001b[39;00m(\u001b[38;5;124m\"\u001b[39m\u001b[38;5;124mcallback isn\u001b[39m\u001b[38;5;124m'\u001b[39m\u001b[38;5;124mt support on ItemItemRecommender.fit\u001b[39m\u001b[38;5;124m\"\u001b[39m)\n\u001b[1;32m---> 35\u001b[0m \u001b[38;5;28mself\u001b[39m\u001b[38;5;241m.\u001b[39msimilarity \u001b[38;5;241m=\u001b[39m \u001b[43mall_pairs_knn\u001b[49m\u001b[43m(\u001b[49m\n\u001b[0;32m     36\u001b[0m \u001b[43m    \u001b[49m\u001b[43mweighted\u001b[49m\u001b[43m,\u001b[49m\n\u001b[0;32m     37\u001b[0m \u001b[43m    \u001b[49m\u001b[38;5;28;43mself\u001b[39;49m\u001b[38;5;241;43m.\u001b[39;49m\u001b[43mK\u001b[49m\u001b[43m,\u001b[49m\n\u001b[0;32m     38\u001b[0m \u001b[43m    \u001b[49m\u001b[43mshow_progress\u001b[49m\u001b[38;5;241;43m=\u001b[39;49m\u001b[43mshow_progress\u001b[49m\u001b[43m,\u001b[49m\n\u001b[0;32m     39\u001b[0m \u001b[43m    \u001b[49m\u001b[43mnum_threads\u001b[49m\u001b[38;5;241;43m=\u001b[39;49m\u001b[38;5;28;43mself\u001b[39;49m\u001b[38;5;241;43m.\u001b[39;49m\u001b[43mnum_threads\u001b[49m\u001b[43m,\u001b[49m\n\u001b[0;32m     40\u001b[0m \u001b[43m\u001b[49m\u001b[43m)\u001b[49m\u001b[38;5;241m.\u001b[39mtocsr()\n\u001b[0;32m     41\u001b[0m \u001b[38;5;28mself\u001b[39m\u001b[38;5;241m.\u001b[39mscorer \u001b[38;5;241m=\u001b[39m NearestNeighboursScorer(\u001b[38;5;28mself\u001b[39m\u001b[38;5;241m.\u001b[39msimilarity)\n",
      "File \u001b[1;32m_nearest_neighbours.pyx:123\u001b[0m, in \u001b[0;36mimplicit._nearest_neighbours.all_pairs_knn\u001b[1;34m()\u001b[0m\n",
      "\u001b[1;31mValueError\u001b[0m: Buffer dtype mismatch, expected 'double' but got 'float'"
     ]
    }
   ],
   "source": [
    "# Хз зачем тут TFIDR, но пусть будет\n",
    "# TFIDR with kNN\n",
    "\n",
    "from implicit.nearest_neighbours import ItemItemRecommender\n",
    "\n",
    "\n",
    "\n",
    "popular_model = PopularModel()\n",
    "popular_model.fit(dataset=dataset)\n",
    "popular_recos = popular_model.recommend(\n",
    "    users=cold_users,\n",
    "    dataset=dataset,\n",
    "    k=3,\n",
    "    filter_viewed=True\n",
    ")\n",
    "\n",
    "mapka_jopa = []\n",
    "for K in range(1, 101, 2):\n",
    "    itemitemknn_model = ImplicitItemKNNWrapperModel(\n",
    "    model=ItemItemRecommender(K=K)\n",
    "    )\n",
    "\n",
    "    itemitemknn_model.fit(dataset)\n",
    "    itemitemknn_recos = itemitemknn_model.recommend(\n",
    "        users=hot_users,\n",
    "        dataset=dataset,\n",
    "        k=3,\n",
    "        filter_viewed=True\n",
    "    )\n",
    "    concat_recos = pd.concat([popular_recos, itemitemknn_recos])\n",
    "\n",
    "    metric=MAP(k=3).calc(concat_recos, submission_for_tests)\n",
    "    mapka_jopa.append(metric)\n",
    "    print(f\"K: {K}  MAP@k: {metric} Score {metric*120}\")"
   ]
  },
  {
   "cell_type": "code",
   "execution_count": null,
   "metadata": {},
   "outputs": [],
   "source": []
  }
 ],
 "metadata": {
  "kernelspec": {
   "display_name": "Python 3",
   "language": "python",
   "name": "python3"
  },
  "language_info": {
   "codemirror_mode": {
    "name": "ipython",
    "version": 3
   },
   "file_extension": ".py",
   "mimetype": "text/x-python",
   "name": "python",
   "nbconvert_exporter": "python",
   "pygments_lexer": "ipython3",
   "version": "3.12.2"
  }
 },
 "nbformat": 4,
 "nbformat_minor": 2
}
